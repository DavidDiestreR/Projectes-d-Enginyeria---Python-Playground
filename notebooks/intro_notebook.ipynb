{
 "cells": [
  {
   "cell_type": "markdown",
   "id": "9e934757",
   "metadata": {},
   "source": [
    "# 👋 Bienvenido a tu primer Notebook de Python\n",
    "\n",
    "Este notebook te ayudará a familiarizarte con Jupyter Notebooks y algunas librerías comunes de Python."
   ]
  },
  {
   "cell_type": "code",
   "execution_count": null,
   "id": "337ec996",
   "metadata": {},
   "outputs": [
    {
     "name": "stdout",
     "output_type": "stream",
     "text": [
      "Hola chicken, Mundo! Bienvenido a Python 🐍\n"
     ]
    }
   ],
   "source": [
    "# Python básico\n",
    "nombre = 'chicken'\n",
    "print(f'Hola, {nombre}! Bienvenido a Python 🐍')"
   ]
  },
  {
   "cell_type": "markdown",
   "id": "1c52f6a1",
   "metadata": {},
   "source": [
    "## 🧮 Operaciones con NumPy"
   ]
  },
  {
   "cell_type": "code",
   "execution_count": 2,
   "id": "98a6a3cf",
   "metadata": {},
   "outputs": [
    {
     "name": "stdout",
     "output_type": "stream",
     "text": [
      "Array: [1 2 3 4 5]\n",
      "Media: 3.0\n",
      "Suma: 15\n"
     ]
    }
   ],
   "source": [
    "import numpy as np\n",
    "\n",
    "# Crear un array y hacer operaciones simples\n",
    "a = np.array([1, 2, 3, 4, 5])\n",
    "print('Array:', a)\n",
    "print('Media:', np.mean(a))\n",
    "print('Suma:', np.sum(a))"
   ]
  },
  {
   "cell_type": "markdown",
   "id": "aa3fa5bf",
   "metadata": {},
   "source": [
    "## 📊 Análisis simple con pandas"
   ]
  },
  {
   "cell_type": "code",
   "execution_count": 3,
   "id": "0492705c",
   "metadata": {},
   "outputs": [
    {
     "data": {
      "text/html": [
       "<div>\n",
       "<style scoped>\n",
       "    .dataframe tbody tr th:only-of-type {\n",
       "        vertical-align: middle;\n",
       "    }\n",
       "\n",
       "    .dataframe tbody tr th {\n",
       "        vertical-align: top;\n",
       "    }\n",
       "\n",
       "    .dataframe thead th {\n",
       "        text-align: right;\n",
       "    }\n",
       "</style>\n",
       "<table border=\"1\" class=\"dataframe\">\n",
       "  <thead>\n",
       "    <tr style=\"text-align: right;\">\n",
       "      <th></th>\n",
       "      <th>Nombre</th>\n",
       "      <th>Edad</th>\n",
       "      <th>Ciudad</th>\n",
       "    </tr>\n",
       "  </thead>\n",
       "  <tbody>\n",
       "    <tr>\n",
       "      <th>0</th>\n",
       "      <td>Ana</td>\n",
       "      <td>23</td>\n",
       "      <td>Madrid</td>\n",
       "    </tr>\n",
       "    <tr>\n",
       "      <th>1</th>\n",
       "      <td>Luis</td>\n",
       "      <td>35</td>\n",
       "      <td>Valencia</td>\n",
       "    </tr>\n",
       "    <tr>\n",
       "      <th>2</th>\n",
       "      <td>Carmen</td>\n",
       "      <td>29</td>\n",
       "      <td>Sevilla</td>\n",
       "    </tr>\n",
       "    <tr>\n",
       "      <th>3</th>\n",
       "      <td>José</td>\n",
       "      <td>41</td>\n",
       "      <td>Bilbao</td>\n",
       "    </tr>\n",
       "  </tbody>\n",
       "</table>\n",
       "</div>"
      ],
      "text/plain": [
       "   Nombre  Edad    Ciudad\n",
       "0     Ana    23    Madrid\n",
       "1    Luis    35  Valencia\n",
       "2  Carmen    29   Sevilla\n",
       "3    José    41    Bilbao"
      ]
     },
     "execution_count": 3,
     "metadata": {},
     "output_type": "execute_result"
    }
   ],
   "source": [
    "import pandas as pd\n",
    "\n",
    "# Crear un DataFrame sencillo\n",
    "data = {\n",
    "    'Nombre': ['Ana', 'Luis', 'Carmen', 'José'],\n",
    "    'Edad': [23, 35, 29, 41],\n",
    "    'Ciudad': ['Madrid', 'Valencia', 'Sevilla', 'Bilbao']\n",
    "}\n",
    "df = pd.DataFrame(data)\n",
    "df"
   ]
  },
  {
   "cell_type": "markdown",
   "id": "70030587",
   "metadata": {},
   "source": [
    "## 📈 Visualización con Matplotlib"
   ]
  },
  {
   "cell_type": "code",
   "execution_count": 4,
   "id": "602c45c3",
   "metadata": {},
   "outputs": [
    {
     "data": {
      "image/png": "[encoded data removed]",
      "text/plain": [
       "<Figure size 640x480 with 1 Axes>"
      ]
     },
     "metadata": {},
     "output_type": "display_data"
    }
   ],
   "source": [
    "import matplotlib.pyplot as plt\n",
    "\n",
    "plt.plot(a, a**2, 'o-', label='x²')\n",
    "plt.title('Gráfico simple con Matplotlib')\n",
    "plt.xlabel('x')\n",
    "plt.ylabel('x²')\n",
    "plt.legend()\n",
    "plt.show()"
   ]
  }
 ],
 "metadata": {
  "kernelspec": {
   "display_name": "myenv",
   "language": "python",
   "name": "python3"
  },
  "language_info": {
   "codemirror_mode": {
    "name": "ipython",
    "version": 3
   },
   "file_extension": ".py",
   "mimetype": "text/x-python",
   "name": "python",
   "nbconvert_exporter": "python",
   "pygments_lexer": "ipython3",
   "version": "3.11.13"
  }
 },
 "nbformat": 4,
 "nbformat_minor": 5
}
